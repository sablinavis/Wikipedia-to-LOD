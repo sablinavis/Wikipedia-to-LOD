{
  "nbformat": 4,
  "nbformat_minor": 0,
  "metadata": {
    "colab": {
      "provenance": []
    },
    "kernelspec": {
      "name": "python3",
      "display_name": "Python 3"
    },
    "language_info": {
      "name": "python"
    }
  },
  "cells": [
    {
      "cell_type": "code",
      "source": [
        "def ensure(package):\n",
        "    try:\n",
        "        __import__(package)\n",
        "    except ImportError:\n",
        "        import subprocess, sys\n",
        "        subprocess.check_call([sys.executable, \"-m\", \"pip\", \"install\", package])\n",
        "ensure(\"rdflib\")\n",
        "ensure(\"requests\")\n"
      ],
      "metadata": {
        "id": "uqdUxUi2GxK2"
      },
      "execution_count": 7,
      "outputs": []
    },
    {
      "cell_type": "code",
      "execution_count": null,
      "metadata": {
        "id": "DYips9e6-A7z",
        "collapsed": true
      },
      "outputs": [],
      "source": [
        "import requests\n",
        "from rdflib import Graph, URIRef, Literal, Namespace\n",
        "\n",
        "# .nt file with artist data\n",
        "input_path = \"wikidata-personen-attributen.nt\"\n",
        "g = Graph()\n",
        "g.parse(input_path, format=\"nt\")\n",
        "\n",
        "# schema.org\n",
        "schema = Namespace(\"https://schema.org/\")\n",
        "\n",
        "# Get from Wikipedia the summary and url\n",
        "def get_wikipedia_info(name):\n",
        "    url = f\"https://en.wikipedia.org/api/rest_v1/page/summary/{name.replace(' ', '_')}\"\n",
        "    response = requests.get(url)\n",
        "    if response.status_code == 200:\n",
        "        data = response.json()\n",
        "        summary = data.get(\"extract\")\n",
        "        page_url = data.get(\"content_urls\", {}).get(\"desktop\", {}).get(\"page\", None)\n",
        "        return summary, page_url\n",
        "    else:\n",
        "        return None, None\n",
        "\n",
        "# New graph\n",
        "g_out = Graph()\n",
        "\n",
        "# Every artist name & attribute to tripple\n",
        "for s, p, o in g:\n",
        "    if p == URIRef(\"https://schema.org/name\") and o.language == 'en':\n",
        "        artist_name = str(o)\n",
        "        summary, page_url = get_wikipedia_info(artist_name)\n",
        "\n",
        "        # Add description to graph\n",
        "        if summary:\n",
        "            g_out.add((s, schema.description, Literal(summary, lang=\"en\")))\n",
        "\n",
        "        # Add mainEntityOfPage\n",
        "        if page_url:\n",
        "            g_out.add((s, schema.mainEntityOfPage, URIRef(page_url)))\n",
        "\n",
        "# Save to a new .nt file\n",
        "output_path = \"artist_descriptions_with_wikipedia.nt\"\n",
        "g_out.serialize(destination=output_path, format=\"nt\")\n",
        "print(f\"File saved to {output_path}\")\n"
      ]
    },
    {
      "cell_type": "code",
      "source": [
        "for i, (s, p, o) in enumerate(g_out):\n",
        "    print(f\"{s.n3()} {p.n3()} {o.n3()}\")\n",
        "    if i >= 9:\n",
        "        break\n"
      ],
      "metadata": {
        "colab": {
          "base_uri": "https://localhost:8080/"
        },
        "id": "IPNxOlVIKU5u",
        "outputId": "c2cff569-ed7e-4685-9285-bdec053486e0"
      },
      "execution_count": 12,
      "outputs": [
        {
          "output_type": "stream",
          "name": "stdout",
          "text": [
            "<http://www.wikidata.org/entity/Q765465> <https://schema.org/mainEntityOfPage> <https://en.wikipedia.org/wiki/Dirck_Coornhert>\n",
            "<http://www.wikidata.org/entity/Q891199> <https://schema.org/description> \"Johannes Marius (\\\"Bok\\\") de Korver was a football player from the Netherlands, who twice won a bronze medal with the Netherlands national football team at the Summer Olympics: in 1908 (London) and in 1912 (Stockholm).\"@en\n",
            "<http://www.wikidata.org/entity/Q2138933> <https://schema.org/description> \"Anna Barbara van Meerten-Schilperoort, was a Dutch women's rights activist.\"@en\n",
            "<http://www.wikidata.org/entity/Q5669> <https://schema.org/description> \"Alessandro di Mariano di Vanni Filipepi, better known as Sandro Botticelli or simply Botticelli, was an Italian painter of the Early Renaissance. Botticelli's posthumous reputation suffered until the late 19th century, when he was rediscovered by the Pre-Raphaelites who stimulated a reappraisal of his work. Since then, his paintings have been seen to represent the linear grace of late Italian Gothic and some Early Renaissance painting, even though they date from the latter half of the Italian Renaissance period.\"@en\n",
            "<http://www.wikidata.org/entity/Q5599> <https://schema.org/description> \"Sir Peter Paul Rubens was a Flemish artist and diplomat. He is considered the most influential artist of the Flemish Baroque tradition. Rubens' highly charged compositions reference erudite aspects of classical and Christian history. His unique and immensely popular Baroque style emphasised movement, colour, and sensuality, which followed the immediate, dramatic artistic style promoted in the Counter-Reformation. Rubens was a painter producing altarpieces, portraits, landscapes, and history paintings of mythological and allegorical subjects. He was also a prolific designer of cartoons for the Flemish tapestry workshops and of frontispieces for the publishers in Antwerp.\"@en\n",
            "<http://www.wikidata.org/entity/Q152505> <https://schema.org/description> \"Leonard Bernstein was an American conductor, composer, pianist, music educator, author, and humanitarian. Considered to be one of the most important conductors of his time, he was the first American-born conductor to receive international acclaim. Bernstein was \\\"one of the most prodigiously talented and successful musicians in American history\\\" according to music critic Donal Henahan. Bernstein's honors and accolades include seven Emmy Awards, two Tony Awards, and 16 Grammy Awards as well as an Academy Award nomination. He received the Kennedy Center Honor in 1981.\"@en\n",
            "<http://www.wikidata.org/entity/Q57089> <https://schema.org/mainEntityOfPage> <https://en.wikipedia.org/wiki/Paul_Ehrlich>\n",
            "<http://www.wikidata.org/entity/Q855749> <https://schema.org/description> \"Catharina-Amalia, Princess of Orange is the heir apparent to the throne of the Kingdom of the Netherlands, which consists of the constituent countries of Aruba, Curaçao, the Netherlands, and Sint Maarten.\"@en\n",
            "<http://www.wikidata.org/entity/Q207535> <https://schema.org/mainEntityOfPage> <https://en.wikipedia.org/wiki/Roland>\n",
            "<http://www.wikidata.org/entity/Q1393906> <https://schema.org/description> \"Jacob van Maerlant was a Flemish poet of the 13th century and one of the most important Middle Dutch authors during the Middle Ages.\"@en\n"
          ]
        }
      ]
    }
  ]
}