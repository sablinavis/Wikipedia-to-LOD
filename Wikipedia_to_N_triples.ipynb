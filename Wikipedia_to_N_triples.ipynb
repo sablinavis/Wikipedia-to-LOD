{
  "nbformat": 4,
  "nbformat_minor": 0,
  "metadata": {
    "colab": {
      "provenance": []
    },
    "kernelspec": {
      "name": "python3",
      "display_name": "Python 3"
    },
    "language_info": {
      "name": "python"
    }
  },
  "cells": [
    {
      "cell_type": "code",
      "source": [
        "def ensure(package):\n",
        "    try:\n",
        "        __import__(package)\n",
        "    except ImportError:\n",
        "        import subprocess, sys\n",
        "        subprocess.check_call([sys.executable, \"-m\", \"pip\", \"install\", package])\n",
        "ensure(\"rdflib\")\n",
        "ensure(\"requests\")\n"
      ],
      "metadata": {
        "id": "uqdUxUi2GxK2"
      },
      "execution_count": 7,
      "outputs": []
    },
    {
      "cell_type": "code",
      "execution_count": 6,
      "metadata": {
        "colab": {
          "base_uri": "https://localhost:8080/"
        },
        "id": "DYips9e6-A7z",
        "outputId": "d4272b67-c799-4bd1-bf3c-fb16df54df41"
      },
      "outputs": [
        {
          "output_type": "stream",
          "name": "stdout",
          "text": [
            "File saved to artist_descriptions_with_wikipedia.nt\n"
          ]
        },
        {
          "output_type": "stream",
          "name": "stderr",
          "text": [
            "/usr/local/lib/python3.11/dist-packages/rdflib/plugins/serializers/nt.py:41: UserWarning: NTSerializer always uses UTF-8 encoding. Given encoding was: None\n",
            "  warnings.warn(\n"
          ]
        }
      ],
      "source": [
        "import requests\n",
        "from rdflib import Graph, URIRef, Literal, Namespace\n",
        "\n",
        "# .nt file with artist data\n",
        "input_path = \"wikidata-personen-attributen.nt\"\n",
        "g = Graph()\n",
        "g.parse(input_path, format=\"nt\")\n",
        "\n",
        "# schema.org\n",
        "schema = Namespace(\"https://schema.org/\")\n",
        "\n",
        "# Get from Wikipedia the summary and url\n",
        "def get_wikipedia_info(name):\n",
        "    url = f\"https://en.wikipedia.org/api/rest_v1/page/summary/{name.replace(' ', '_')}\"\n",
        "    response = requests.get(url)\n",
        "    if response.status_code == 200:\n",
        "        data = response.json()\n",
        "        summary = data.get(\"extract\")\n",
        "        page_url = data.get(\"content_urls\", {}).get(\"desktop\", {}).get(\"page\", None)\n",
        "        return summary, page_url\n",
        "    else:\n",
        "        return None, None\n",
        "\n",
        "# New graph\n",
        "g_out = Graph()\n",
        "\n",
        "# Every artist name & attribute to tripple\n",
        "for s, p, o in g:\n",
        "    if p == URIRef(\"https://schema.org/name\") and o.language == 'en':\n",
        "        artist_name = str(o)\n",
        "        summary, page_url = get_wikipedia_info(artist_name)\n",
        "\n",
        "        # Add description to graph\n",
        "        if summary:\n",
        "            g_out.add((s, schema.description, Literal(summary, lang=\"en\")))\n",
        "\n",
        "        # Add mainEntityOfPage\n",
        "        if page_url:\n",
        "            g_out.add((s, schema.mainEntityOfPage, URIRef(page_url)))\n",
        "\n",
        "# Save to a new .nt file\n",
        "output_path = \"artist_descriptions_with_wikipedia.nt\"\n",
        "g_out.serialize(destination=output_path, format=\"nt\")\n",
        "print(f\"File saved to {output_path}\")\n"
      ]
    }
  ]
}